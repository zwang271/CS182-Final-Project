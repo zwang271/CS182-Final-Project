{
 "cells": [
  {
   "cell_type": "markdown",
   "id": "3d4608fa",
   "metadata": {},
   "source": [
    "Imports and loading data sets"
   ]
  },
  {
   "cell_type": "code",
   "execution_count": 1,
   "id": "725bc138",
   "metadata": {},
   "outputs": [],
   "source": [
    "import torch\n",
    "import numpy as np"
   ]
  },
  {
   "cell_type": "markdown",
   "id": "4ce9324c",
   "metadata": {},
   "source": [
    "# Question 2: Toy Example  \n",
    "Have a toy example that demonstrates that weight decay and regularization are not the same for Adam optimizer"
   ]
  },
  {
   "cell_type": "code",
   "execution_count": null,
   "id": "433b4ef5",
   "metadata": {},
   "outputs": [],
   "source": []
  },
  {
   "cell_type": "markdown",
   "id": "72d3b481",
   "metadata": {},
   "source": [
    "# Question 3: AdamW Update Rule\n",
    "Code the update rule for AdamW – check against the PyTorch implementation for ‘autograding’:       https://pytorch.org/docs/stable/generated/torch.optim.AdamW.html"
   ]
  },
  {
   "cell_type": "code",
   "execution_count": null,
   "id": "4587d679",
   "metadata": {},
   "outputs": [],
   "source": []
  },
  {
   "cell_type": "markdown",
   "id": "0d1eff45",
   "metadata": {},
   "source": [
    "# Question 4: Visualization \n",
    "Have the student try to recreate the visuals in the paper for SGD and Adam with and without weight decay (figure 2 in the paper)"
   ]
  },
  {
   "cell_type": "code",
   "execution_count": null,
   "id": "79d3c9cf",
   "metadata": {},
   "outputs": [],
   "source": []
  },
  {
   "cell_type": "markdown",
   "id": "f981917b",
   "metadata": {},
   "source": [
    "Answer the following question(s):  \n",
    "Summarize the difference between Adam and SGD with weight decay vs. L2-Regularization, and comment on which performs better."
   ]
  },
  {
   "cell_type": "markdown",
   "id": "b82be729",
   "metadata": {},
   "source": [
    "# Question 5: Exploring Different Learning Schedules  \n",
    "Have questions that involve different learning schedules mentioned in the paper to see if the same conclusions should be drawn"
   ]
  },
  {
   "cell_type": "code",
   "execution_count": null,
   "id": "be00cebf",
   "metadata": {},
   "outputs": [],
   "source": []
  },
  {
   "cell_type": "markdown",
   "id": "7e9fdb86",
   "metadata": {},
   "source": [
    "# Question 6:  Visualizing Speedup\n",
    "Use pytorch to run AdamW and AdamWR on toy examples to visualize the speedup"
   ]
  },
  {
   "cell_type": "code",
   "execution_count": null,
   "id": "c26d77f7",
   "metadata": {},
   "outputs": [],
   "source": []
  }
 ],
 "metadata": {
  "kernelspec": {
   "display_name": "Python 3 (ipykernel)",
   "language": "python",
   "name": "python3"
  },
  "language_info": {
   "codemirror_mode": {
    "name": "ipython",
    "version": 3
   },
   "file_extension": ".py",
   "mimetype": "text/x-python",
   "name": "python",
   "nbconvert_exporter": "python",
   "pygments_lexer": "ipython3",
   "version": "3.9.12"
  }
 },
 "nbformat": 4,
 "nbformat_minor": 5
}
